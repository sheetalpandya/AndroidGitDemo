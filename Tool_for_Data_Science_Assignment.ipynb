{
  "nbformat": 4,
  "nbformat_minor": 0,
  "metadata": {
    "colab": {
      "provenance": [],
      "authorship_tag": "ABX9TyNZCA/aS5Xp7rJA1nNkFCgT",
      "include_colab_link": true
    },
    "kernelspec": {
      "name": "python3",
      "display_name": "Python 3"
    },
    "language_info": {
      "name": "python"
    }
  },
  "cells": [
    {
      "cell_type": "markdown",
      "metadata": {
        "id": "view-in-github",
        "colab_type": "text"
      },
      "source": [
        "<a href=\"https://colab.research.google.com/github/sheetalpandya/AndroidGitDemo/blob/master/Tool_for_Data_Science_Assignment.ipynb\" target=\"_parent\"><img src=\"https://colab.research.google.com/assets/colab-badge.svg\" alt=\"Open In Colab\"/></a>"
      ]
    },
    {
      "cell_type": "markdown",
      "source": [
        "#This is heading\n",
        "## This is heading 2\n",
        "### This is Heading 3\n"
      ],
      "metadata": {
        "id": "QWeJS2rIm_Ia"
      }
    },
    {
      "cell_type": "markdown",
      "source": [
        "\n",
        "\n",
        "---\n",
        "\n",
        "\n",
        "\n",
        "---\n",
        "\n"
      ],
      "metadata": {
        "id": "2HF60nzmmFnS"
      }
    },
    {
      "cell_type": "markdown",
      "source": [
        "#In this notebook, Data Science Tools and Ecosystem are summarized.\n",
        "\n",
        "##Objectives:\n",
        "\n",
        "###List popular languages that Data Scientists use.\n",
        "###List commonly used libraries used by Data Scientists.\n",
        "###Comment on Data Science tools."
      ],
      "metadata": {
        "id": "YMLLelHHpFdx"
      }
    },
    {
      "cell_type": "code",
      "source": [],
      "metadata": {
        "id": "A8enkMtHl8XP"
      },
      "execution_count": null,
      "outputs": []
    },
    {
      "cell_type": "markdown",
      "source": [
        "\n",
        "#Some of the popular languages that Data Scientists use are:\n",
        "\n",
        "1. Python.\n",
        "2. R.\n",
        "3. SQL.\n",
        "4. Java.\n",
        "5. Julia.\n",
        "6. Scala.\n",
        "7. C/C++.\n",
        "8. JavaScript."
      ],
      "metadata": {
        "id": "8NiEFfRiqUTx"
      }
    },
    {
      "cell_type": "markdown",
      "source": [
        "#Some of the commonly used libraries used by Data Scientists include:\n",
        "\n",
        "\n",
        "\n",
        "1. NumPy.\n",
        "2. TensorFlow.\n",
        "3. NumPy.\n",
        "4. SciPy.\n",
        "5. Pandas.\n",
        "6. Matplotlib.\n",
        "7. Keras.\n",
        "8. SciKit-Learn.\n",
        "9. PyTorch.\n",
        "10. Scrapy.\n",
        "11. BeautifulSoup.\n",
        "12. LightGBM.\n",
        "13. ELI5.\n",
        "14. Theano.\n",
        "15. NuPIC.\n",
        "16. Ramp.\n",
        "17. Pipenv.\n",
        "18. Bob.\n",
        "19. PyBrain.\n",
        "20. Caffe2.\n",
        "21. Chainer."
      ],
      "metadata": {
        "id": "T7LuRB2pqz1J"
      }
    },
    {
      "cell_type": "markdown",
      "source": [
        "#Data Science Tools:\n",
        "\n",
        "###Data Science Tools\n",
        "#### It is one of those data science tools which are specifically designed for statistical operation\t\t\n",
        "#####Apache Spark\t\t\n",
        "#####BigML"
      ],
      "metadata": {
        "id": "2aetzrf2rphB"
      }
    },
    {
      "cell_type": "markdown",
      "source": [
        "**Exercise 7 - Create a markdown cell introducing arithmetic expression examples. (1 pt)**"
      ],
      "metadata": {
        "id": "mC_Uzh6Csza4"
      }
    },
    {
      "cell_type": "code",
      "source": [
        "# Arithmetic operations\n",
        "code = compile(\"5 + 4\", \"<string>\", \"eval\")\n",
        "eval(code)\n",
        "# Result: 9"
      ],
      "metadata": {
        "colab": {
          "base_uri": "https://localhost:8080/"
        },
        "id": "vq-qk2SKsilY",
        "outputId": "0611dd5f-6225-41bf-f516-9aa7cc227164"
      },
      "execution_count": null,
      "outputs": [
        {
          "output_type": "execute_result",
          "data": {
            "text/plain": [
              "9"
            ]
          },
          "metadata": {},
          "execution_count": 4
        }
      ]
    },
    {
      "cell_type": "code",
      "source": [
        "code1 = compile(\"(5 + 7) * 2\", \"<string>\", \"eval\")\n",
        "eval(code1)\n",
        "# Result: 24"
      ],
      "metadata": {
        "colab": {
          "base_uri": "https://localhost:8080/"
        },
        "id": "Y2mJHhcLl7zn",
        "outputId": "e420da81-3e6b-4924-fb18-884b263e411c"
      },
      "execution_count": null,
      "outputs": [
        {
          "output_type": "execute_result",
          "data": {
            "text/plain": [
              "24"
            ]
          },
          "metadata": {},
          "execution_count": 5
        }
      ]
    },
    {
      "cell_type": "code",
      "source": [
        "import math\n",
        "# Volume of a sphere\n",
        "code2 = compile(\"4 / 3 * math.pi * math.pow(25, 3)\", \"<string>\", \"eval\")\n",
        "eval(code2)\n",
        "# Result: 65449.84694978735"
      ],
      "metadata": {
        "colab": {
          "base_uri": "https://localhost:8080/"
        },
        "id": "q2njD0v1spZA",
        "outputId": "4c674150-b425-4c76-9ddc-3511a6a15c38"
      },
      "execution_count": null,
      "outputs": [
        {
          "output_type": "execute_result",
          "data": {
            "text/plain": [
              "65449.84694978735"
            ]
          },
          "metadata": {},
          "execution_count": 6
        }
      ]
    },
    {
      "cell_type": "markdown",
      "source": [
        "**Exercise 8 - Create a code cell to multiply and add numbers.(2 pts)**"
      ],
      "metadata": {
        "id": "2V3ytr5JtAIR"
      }
    },
    {
      "cell_type": "code",
      "source": [
        "(3*4)+5\n",
        "# Result: 17"
      ],
      "metadata": {
        "colab": {
          "base_uri": "https://localhost:8080/"
        },
        "id": "Ev8z6U9itCAg",
        "outputId": "b844bdc7-89f4-4e1e-8ab2-ac66c467f3ff"
      },
      "execution_count": null,
      "outputs": [
        {
          "output_type": "execute_result",
          "data": {
            "text/plain": [
              "17"
            ]
          },
          "metadata": {},
          "execution_count": 7
        }
      ]
    },
    {
      "cell_type": "markdown",
      "source": [
        "**Exercise 9 - Create a code cell to convert minutes to hours. (2 pts)**\n",
        "\n",
        "This will convert 200 minutes to hours by diving by 60"
      ],
      "metadata": {
        "id": "pJZMXnmRtMWJ"
      }
    },
    {
      "cell_type": "code",
      "source": [
        "days = 0\n",
        "hours = 0\n",
        "mins = 0\n",
        "\n",
        "time = 200\n",
        "#days = time / 1440\n",
        "leftover_minutes = time % 1440\n",
        "hours = leftover_minutes / 60\n",
        "#mins = time - (days*1440) - (hours*60)\n",
        "print(str(days) + \" days, \" + str(hours) + \" hours, \" + str(mins) +  \" mins. \")\n",
        "\n",
        "# Result: 3.3333333333333335 hours"
      ],
      "metadata": {
        "id": "X8EevdIztN0g",
        "outputId": "1a6ee4c0-6e34-4b91-aad1-bf5b656e343d",
        "colab": {
          "base_uri": "https://localhost:8080/"
        }
      },
      "execution_count": null,
      "outputs": [
        {
          "output_type": "stream",
          "name": "stdout",
          "text": [
            "0 days, 3.3333333333333335 hours, 0 mins. \n"
          ]
        }
      ]
    }
  ]
}